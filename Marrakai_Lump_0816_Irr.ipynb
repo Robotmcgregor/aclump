{
 "cells": [
  {
   "cell_type": "code",
   "execution_count": null,
   "metadata": {
    "collapsed": true
   },
   "outputs": [],
   "source": [
    "import pandas as pd\n",
    "import numpy as np\n",
    "from numpy import NaN, NAN, nan\n",
    "import matplotlib as plt\n",
    "import matplotlib.pyplot as plt\n",
    "%matplotlib inline\n",
    "pd.options.display.float_format = '{:,.0f}'.format"
   ]
  },
  {
   "cell_type": "code",
   "execution_count": null,
   "metadata": {
    "collapsed": true
   },
   "outputs": [],
   "source": [
    "df = pd.read_excel('../Outputs/Lump0816_365_515.xlsx')\n",
    "\n",
    "#change 08 and 16 to strings\n",
    "df['CODE_08'] = df['LU_NO'].astype(str)\n",
    "df['CODE_16'] = df['LU_CODEN'].astype(str)\n",
    "\n",
    "# make the new columns for LU08 using string indexing\n",
    "df['prim_08'] = df['CODE_08'].str[0:1]\n",
    "df['secon_08'] = df['CODE_08'].str[:2]\n",
    "df['third_08'] = df['CODE_08'].str[0:3]\n",
    "\n",
    "# make the new columns for LU16 using string indexing\n",
    "df['prim_16'] = df['CODE_16'].str[0:1]\n",
    "df['secon_16'] = df['CODE_16'].str[:2]\n",
    "df['third_16'] = df['CODE_16'].str[0:3]\n",
    "\n",
    "#change 08 and 16 to intigers\n",
    "df['seconint_16'] = df['secon_16'].astype(int)\n",
    "df['seconint_08'] = df['secon_08'].astype(int)\n",
    "\n",
    "#convet area to ha\n",
    "df['AREA_08_ha'] = (df['AREA_08_M2'] / 10000)\n",
    "df['AREA_16_ha'] = (df['AREA_16_M2'] / 10000)\n",
    "\n",
    "# Group by land use and calculate the sum of area\n",
    "df16 = df.groupby('secon_16')['AREA_16_ha'].agg([\n",
    "    np.sum,\n",
    "    np.mean,\n",
    "    np.std,\n",
    "    np.count_nonzero]).reset_index()\n",
    "\n",
    "df8 = df.groupby('secon_08')['AREA_08_ha'].agg([\n",
    "    np.sum,\n",
    "    np.mean,\n",
    "    np.std,\n",
    "    np.count_nonzero]).reset_index()\n",
    "\n",
    "#dflabel = df.groupby('secon_16')['AREA_16_M2'].agg([\n",
    "    #np.sum,\n",
    "    #np.mean,\n",
    "    #np.count_nonzero,]).reset_index()\n",
    "    \n",
    "\n",
    "#Change the column names so that they can be concatinated\n",
    "df16.columns = ['Land Use', 'Sum', 'Mean', 'Std', 'Count non zero']\n",
    "df8.columns = ['Land Use', 'Sum', 'Mean', 'Std','Count non zero']\n",
    "\n",
    "\n",
    "concat = pd.concat([df16, df8])\n",
    "\n",
    "final = pd.merge(df16, df8,\n",
    "                left_on='Land Use', right_on='Land Use',\n",
    "                how = 'left')\n",
    "\n",
    "#Change the column names so for analysis\n",
    "final.columns = ['Land Use', 'Sum 2016', 'Mean 2016', 'Std 2016', 'Count 2016',\n",
    "              'Sum 2008', 'Mean 2008', 'Std 2008', 'Count 2008']\n",
    "\n",
    "final['% Change Area'] = (((final['Sum 2016'] - final['Sum 2008'])- final['Sum 2016'])*100)\n",
    "final['% Change Count'] = (((final['Count 2016'] - final['Count 2008'])- final['Count 2016'])*100)\n",
    "\n",
    "#final.fillna(0)\n",
    "\n",
    "final"
   ]
  },
  {
   "cell_type": "code",
   "execution_count": null,
   "metadata": {
    "collapsed": true
   },
   "outputs": [],
   "source": []
  },
  {
   "cell_type": "code",
   "execution_count": null,
   "metadata": {
    "collapsed": true
   },
   "outputs": [],
   "source": []
  }
 ],
 "metadata": {
  "kernelspec": {
   "display_name": "Python 3",
   "language": "python",
   "name": "python3"
  },
  "language_info": {
   "codemirror_mode": {
    "name": "ipython",
    "version": 3
   },
   "file_extension": ".py",
   "mimetype": "text/x-python",
   "name": "python",
   "nbconvert_exporter": "python",
   "pygments_lexer": "ipython3",
   "version": "3.6.3"
  }
 },
 "nbformat": 4,
 "nbformat_minor": 2
}
