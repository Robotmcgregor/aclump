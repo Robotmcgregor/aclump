{
 "cells": [
  {
   "cell_type": "code",
   "execution_count": 2,
   "metadata": {
    "collapsed": true
   },
   "outputs": [],
   "source": [
    "import pandas as pd\n",
    "import numpy as np\n",
    "from numpy import NaN, NAN, nan\n",
    "import matplotlib as plt\n",
    "import matplotlib.pyplot as plt\n",
    "%matplotlib inline\n",
    "pd.options.display.float_format = '{:,.0f}'.format"
   ]
  },
  {
   "cell_type": "code",
   "execution_count": 3,
   "metadata": {},
   "outputs": [
    {
     "data": {
      "text/html": [
       "<div>\n",
       "<style>\n",
       "    .dataframe thead tr:only-child th {\n",
       "        text-align: right;\n",
       "    }\n",
       "\n",
       "    .dataframe thead th {\n",
       "        text-align: left;\n",
       "    }\n",
       "\n",
       "    .dataframe tbody tr th {\n",
       "        vertical-align: top;\n",
       "    }\n",
       "</style>\n",
       "<table border=\"1\" class=\"dataframe\">\n",
       "  <thead>\n",
       "    <tr style=\"text-align: right;\">\n",
       "      <th></th>\n",
       "      <th>Land Use</th>\n",
       "      <th>Sum 2008</th>\n",
       "      <th>Mean 2008</th>\n",
       "      <th>Std 2008</th>\n",
       "      <th>Count 2008</th>\n",
       "      <th>Sum 2016</th>\n",
       "      <th>Mean 2016</th>\n",
       "      <th>Std 2016</th>\n",
       "      <th>Count 2016</th>\n",
       "      <th>Change Sum</th>\n",
       "    </tr>\n",
       "  </thead>\n",
       "  <tbody>\n",
       "    <tr>\n",
       "      <th>0</th>\n",
       "      <td>41</td>\n",
       "      <td>nan</td>\n",
       "      <td>nan</td>\n",
       "      <td>nan</td>\n",
       "      <td>nan</td>\n",
       "      <td>850</td>\n",
       "      <td>850</td>\n",
       "      <td>nan</td>\n",
       "      <td>1</td>\n",
       "      <td>nan</td>\n",
       "    </tr>\n",
       "    <tr>\n",
       "      <th>1</th>\n",
       "      <td>44</td>\n",
       "      <td>nan</td>\n",
       "      <td>nan</td>\n",
       "      <td>nan</td>\n",
       "      <td>nan</td>\n",
       "      <td>312</td>\n",
       "      <td>26</td>\n",
       "      <td>40</td>\n",
       "      <td>9</td>\n",
       "      <td>nan</td>\n",
       "    </tr>\n",
       "    <tr>\n",
       "      <th>2</th>\n",
       "      <td>45</td>\n",
       "      <td>nan</td>\n",
       "      <td>nan</td>\n",
       "      <td>nan</td>\n",
       "      <td>nan</td>\n",
       "      <td>800</td>\n",
       "      <td>89</td>\n",
       "      <td>36</td>\n",
       "      <td>9</td>\n",
       "      <td>nan</td>\n",
       "    </tr>\n",
       "    <tr>\n",
       "      <th>3</th>\n",
       "      <td>46</td>\n",
       "      <td>nan</td>\n",
       "      <td>nan</td>\n",
       "      <td>nan</td>\n",
       "      <td>nan</td>\n",
       "      <td>3</td>\n",
       "      <td>3</td>\n",
       "      <td>nan</td>\n",
       "      <td>1</td>\n",
       "      <td>nan</td>\n",
       "    </tr>\n",
       "  </tbody>\n",
       "</table>\n",
       "</div>"
      ],
      "text/plain": [
       "   Land Use  Sum 2008  Mean 2008  Std 2008  Count 2008  Sum 2016  Mean 2016  \\\n",
       "0        41       nan        nan       nan         nan       850        850   \n",
       "1        44       nan        nan       nan         nan       312         26   \n",
       "2        45       nan        nan       nan         nan       800         89   \n",
       "3        46       nan        nan       nan         nan         3          3   \n",
       "\n",
       "   Std 2016  Count 2016  Change Sum  \n",
       "0       nan           1         nan  \n",
       "1        40           9         nan  \n",
       "2        36           9         nan  \n",
       "3       nan           1         nan  "
      ]
     },
     "execution_count": 3,
     "metadata": {},
     "output_type": "execute_result"
    }
   ],
   "source": [
    "df = pd.read_excel('../Outputs/GIS_Lump_Excels/Lump0816_365_515_Mataranka.xlsx')\n",
    "\n",
    "#change 08 and 16 to strings\n",
    "df['CODE_08'] = df['LU_NO'].astype(str)\n",
    "df['CODE_16'] = df['LU_CODEN'].astype(str)\n",
    "\n",
    "# make the new columns for LU08 using string indexing\n",
    "df['prim_08'] = df['CODE_08'].str[0:1]\n",
    "df['secon_08'] = df['CODE_08'].str[:2]\n",
    "df['third_08'] = df['CODE_08'].str[0:3]\n",
    "\n",
    "# make the new columns for LU16 using string indexing\n",
    "df['prim_16'] = df['CODE_16'].str[0:1]\n",
    "df['secon_16'] = df['CODE_16'].str[:2]\n",
    "df['third_16'] = df['CODE_16'].str[0:3]\n",
    "\n",
    "#change 08 and 16 to intigers\n",
    "df['seconint_16'] = df['secon_16'].astype(int)\n",
    "df['seconint_08'] = df['secon_08'].astype(int)\n",
    "\n",
    "#convet area to ha\n",
    "df['AREA_08_ha'] = (df['AREA_08_M2'] / 10000).astype(int)\n",
    "df['AREA_16_ha'] = (df['AREA_16_M2'] / 10000).astype(int)\n",
    "\n",
    "# Group by land use and calculate the sum of area\n",
    "df16 = df.groupby('seconint_16')['AREA_16_ha'].agg([\n",
    "    np.sum,\n",
    "    np.mean,\n",
    "    np.std,\n",
    "    np.count_nonzero]).reset_index()\n",
    "\n",
    "df8 = df.groupby('seconint_08')['AREA_08_ha'].agg([\n",
    "    np.sum,\n",
    "    np.mean,\n",
    "    np.std,\n",
    "    np.count_nonzero]).reset_index()\n",
    "\n",
    "#dflabel = df.groupby('secon_16')['AREA_16_M2'].agg([\n",
    "    #np.sum,\n",
    "    #np.mean,\n",
    "    #np.count_nonzero,]).reset_index()\n",
    "    \n",
    "\n",
    "#Change the column names so that they can be concatinated\n",
    "df16.columns = ['Land Use', 'Sum', 'Mean', 'Std', 'Count non zero']\n",
    "df8.columns = ['Land Use', 'Sum', 'Mean', 'Std','Count non zero']\n",
    "\n",
    "\n",
    "concat = pd.concat([df16, df8])\n",
    "\n",
    "final = pd.merge(df16, df8,\n",
    "                left_on='Land Use', right_on='Land Use',\n",
    "                how = 'left')\n",
    "\n",
    "#Change the column names so for analysis\n",
    "final.columns = ['Land Use', 'Sum 2016', 'Mean 2016', 'Std 2016', 'Count 2016',\n",
    "              'Sum 2008', 'Mean 2008', 'Std 2008', 'Count 2008']\n",
    "\n",
    "final['Change Sum'] = (final['Sum 2016'] - final['Sum 2008'])\n",
    "\n",
    "\n",
    "final= final[['Land Use', 'Sum 2008', 'Mean 2008', 'Std 2008', 'Count 2008',\n",
    "                  'Sum 2016', 'Mean 2016', 'Std 2016', 'Count 2016', 'Change Sum']]\n",
    "\n",
    "final.to_excel('../Outputs/Pandas_Lump_Excels/Marrakai_Grouped_Lump0816_365_515.xlsx')\n",
    "final"
   ]
  },
  {
   "cell_type": "markdown",
   "metadata": {},
   "source": [
    "comparison"
   ]
  },
  {
   "cell_type": "code",
   "execution_count": 10,
   "metadata": {},
   "outputs": [
    {
     "data": {
      "image/png": "[encoded data removed]",
      "text/plain": [
       "<matplotlib.figure.Figure at 0xacb7b70>"
      ]
     },
     "metadata": {},
     "output_type": "display_data"
    }
   ],
   "source": [
    "import numpy as np\n",
    "import matplotlib.pyplot as plt\n",
    "\n",
    "N = 4\n",
    "plt.rcParams['figure.figsize']=(10,6\n",
    "                            )\n",
    "#Sum2008 = final['Sum 2008']\n",
    "Sum2016 = final['Sum 2016']\n",
    "\n",
    "ind = np.arange(N)    # the x locations for the groups\n",
    "width = 0.50\n",
    "# the width of the bars: can also be len(x) sequence\n",
    "\n",
    "p1 = plt.bar(ind, Sum2008, width,)\n",
    "#p2 = plt.bar(ind, Sum2016, width,\n",
    "#             bottom=Sum2008,)\n",
    "\n",
    "plt.ylabel('Area ha')\n",
    "plt.title('Land Use Comparison')\n",
    "plt.xticks(ind, final['Land Use'])\n",
    "plt.xlabel('Secondary Land Use Units')\n",
    "plt.legend((p1[0], p2[0]), ('2008', '2016'))\n",
    "\n",
    "plt.show()"
   ]
  },
  {
   "cell_type": "code",
   "execution_count": 11,
   "metadata": {},
   "outputs": [
    {
     "data": {
      "text/html": [
       "<div>\n",
       "<style>\n",
       "    .dataframe thead tr:only-child th {\n",
       "        text-align: right;\n",
       "    }\n",
       "\n",
       "    .dataframe thead th {\n",
       "        text-align: left;\n",
       "    }\n",
       "\n",
       "    .dataframe tbody tr th {\n",
       "        vertical-align: top;\n",
       "    }\n",
       "</style>\n",
       "<table border=\"1\" class=\"dataframe\">\n",
       "  <thead>\n",
       "    <tr style=\"text-align: right;\">\n",
       "      <th></th>\n",
       "      <th>Commodity</th>\n",
       "      <th>Sum 2008</th>\n",
       "      <th>Sum 2016</th>\n",
       "      <th>Change Sum</th>\n",
       "    </tr>\n",
       "  </thead>\n",
       "  <tbody>\n",
       "    <tr>\n",
       "      <th>1</th>\n",
       "      <td>mangoes</td>\n",
       "      <td>0</td>\n",
       "      <td>317</td>\n",
       "      <td>317</td>\n",
       "    </tr>\n",
       "    <tr>\n",
       "      <th>2</th>\n",
       "      <td>melons</td>\n",
       "      <td>0</td>\n",
       "      <td>798</td>\n",
       "      <td>798</td>\n",
       "    </tr>\n",
       "    <tr>\n",
       "      <th>3</th>\n",
       "      <td>sandalwood</td>\n",
       "      <td>0</td>\n",
       "      <td>850</td>\n",
       "      <td>850</td>\n",
       "    </tr>\n",
       "  </tbody>\n",
       "</table>\n",
       "</div>"
      ],
      "text/plain": [
       "    Commodity  Sum 2008  Sum 2016  Change Sum\n",
       "1     mangoes         0       317         317\n",
       "2      melons         0       798         798\n",
       "3  sandalwood         0       850         850"
      ]
     },
     "execution_count": 11,
     "metadata": {},
     "output_type": "execute_result"
    }
   ],
   "source": [
    "\n",
    "#grouped by commodity only\n",
    "df16_comod = df.groupby('COMMOD_DES')['AREA_16_ha'].agg(np.sum).reset_index()\n",
    "\n",
    "df8_comod = df.groupby('COMMOD_DES')['AREA_08_ha'].agg(np.sum).reset_index()\n",
    "\n",
    "#Change the column names so that they can be concatinated\n",
    "df16_comod.columns = ['Commodity', 'Sum']\n",
    "df8_comod.columns = ['Commodity', 'Sum']\n",
    "\n",
    "concat = pd.concat([df16_comod, df8_comod])\n",
    "\n",
    "final_comod = pd.merge(df16_comod, df8_comod,\n",
    "                left_on='Commodity', right_on='Commodity',\n",
    "                how = 'left')\n",
    "\n",
    "#Change the column names so for analysis\n",
    "final_comod.columns = ['Commodity', 'Sum 2016','Sum 2008']\n",
    "\n",
    "#reorder the table\n",
    "final_comod = final_comod[['Commodity', 'Sum 2008', 'Sum 2016']]\n",
    "\n",
    "\n",
    "#calculate %area change and %count count change\n",
    "final_comod['Change Sum'] = (final_comod['Sum 2016'] - final_comod['Sum 2008'])\n",
    "final_comod=final_comod[1:]\n",
    "final_comod  "
   ]
  },
  {
   "cell_type": "code",
   "execution_count": 15,
   "metadata": {},
   "outputs": [
    {
     "data": {
      "image/png": "[encoded data removed]",
      "text/plain": [
       "<matplotlib.figure.Figure at 0x7ee0cc0>"
      ]
     },
     "metadata": {},
     "output_type": "display_data"
    }
   ],
   "source": [
    "import numpy as np\n",
    "import matplotlib.pyplot as plt\n",
    "\n",
    "plt.rcParams['figure.figsize']=(6,4)\n",
    "N = 3\n",
    "\n",
    "Sum2008 = final_comod['Sum 2008']\n",
    "Sum2016 = final_comod['Sum 2016']\n",
    "\n",
    "ind = np.arange(N)    # the x locations for the groups\n",
    "width = 0.40      # the width of the bars: can also be len(x) sequence\n",
    "\n",
    "p1 = plt.bar(ind, Sum2008, width,)\n",
    "p2 = plt.bar(ind, Sum2016, width,\n",
    "             bottom=Sum2008,)\n",
    "\n",
    "plt.ylabel('Area ha')\n",
    "plt.title('Commodity Comparison')\n",
    "plt.xticks(ind, final_comod['Commodity'], rotation = 'vertical')\n",
    "plt.xlabel('Secondary Land Use Units')\n",
    "plt.legend((p1[0], p2[0]), ('2008', '2016'))\n",
    "\n",
    "plt.show()"
   ]
  },
  {
   "cell_type": "code",
   "execution_count": 7,
   "metadata": {},
   "outputs": [
    {
     "data": {
      "image/png": "[encoded data removed]",
      "text/plain": [
       "<matplotlib.figure.Figure at 0xa439518>"
      ]
     },
     "metadata": {},
     "output_type": "display_data"
    }
   ],
   "source": [
    "import matplotlib.pyplot as plt\n",
    "plt.rcParams['figure.figsize']=(20,10)\n",
    "labels = final_comod['Commodity']\n",
    "area = final_comod['Sum 2016']\n",
    "fig1, ax1 = plt.subplots()\n",
    "ax1.pie(area, autopct='%1.1f%%',\n",
    "        shadow=True, startangle=90)\n",
    "ax1.axis('equal')  # Equal aspect ratio ensures that pie is drawn as a circle.\n",
    "plt.show()\n"
   ]
  },
  {
   "cell_type": "code",
   "execution_count": null,
   "metadata": {
    "collapsed": true
   },
   "outputs": [],
   "source": []
  },
  {
   "cell_type": "code",
   "execution_count": null,
   "metadata": {
    "collapsed": true
   },
   "outputs": [],
   "source": []
  }
 ],
 "metadata": {
  "kernelspec": {
   "display_name": "Python 3",
   "language": "python",
   "name": "python3"
  },
  "language_info": {
   "codemirror_mode": {
    "name": "ipython",
    "version": 3
   },
   "file_extension": ".py",
   "mimetype": "text/x-python",
   "name": "python",
   "nbconvert_exporter": "python",
   "pygments_lexer": "ipython3",
   "version": "3.6.3"
  }
 },
 "nbformat": 4,
 "nbformat_minor": 2
}
