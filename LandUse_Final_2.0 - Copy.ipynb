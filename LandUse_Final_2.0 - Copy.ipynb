{
 "cells": [
  {
   "cell_type": "code",
   "execution_count": 1,
   "metadata": {
    "collapsed": true
   },
   "outputs": [],
   "source": [
    "import pandas as pd\n",
    "import numpy as np\n",
    "import matplotlib as plt\n",
    "import matplotlib.pyplot as plt\n",
    "%matplotlib inline"
   ]
  },
  {
   "cell_type": "code",
   "execution_count": 2,
   "metadata": {
    "collapsed": true,
    "scrolled": true
   },
   "outputs": [],
   "source": [
    "df = pd.read_excel('../Outputs/Lump0816_365_515.xlsx')"
   ]
  },
  {
   "cell_type": "code",
   "execution_count": 3,
   "metadata": {},
   "outputs": [
    {
     "data": {
      "text/html": [
       "<div>\n",
       "<style>\n",
       "    .dataframe thead tr:only-child th {\n",
       "        text-align: right;\n",
       "    }\n",
       "\n",
       "    .dataframe thead th {\n",
       "        text-align: left;\n",
       "    }\n",
       "\n",
       "    .dataframe tbody tr th {\n",
       "        vertical-align: top;\n",
       "    }\n",
       "</style>\n",
       "<table border=\"1\" class=\"dataframe\">\n",
       "  <thead>\n",
       "    <tr style=\"text-align: right;\">\n",
       "      <th></th>\n",
       "      <th>OBJECTID_12</th>\n",
       "      <th>FID_Lump_Albers_08_365_515</th>\n",
       "      <th>OBJECTID</th>\n",
       "      <th>LAISKEY</th>\n",
       "      <th>LU_CODE</th>\n",
       "      <th>LU_DESC</th>\n",
       "      <th>SRC_SCALE</th>\n",
       "      <th>SRC_DATE</th>\n",
       "      <th>RELIABLE</th>\n",
       "      <th>LUC_DATE</th>\n",
       "      <th>...</th>\n",
       "      <th>PRIM_NO</th>\n",
       "      <th>PRIM_DESC</th>\n",
       "      <th>SEC_NO</th>\n",
       "      <th>SEC_DESC</th>\n",
       "      <th>AREA_HA</th>\n",
       "      <th>SHAPE_Leng_1</th>\n",
       "      <th>AREA_M2_1</th>\n",
       "      <th>AREA_16_M2</th>\n",
       "      <th>Shape_Length</th>\n",
       "      <th>Shape_Area</th>\n",
       "    </tr>\n",
       "  </thead>\n",
       "  <tbody>\n",
       "    <tr>\n",
       "      <th>0</th>\n",
       "      <td>1</td>\n",
       "      <td>0</td>\n",
       "      <td>3394</td>\n",
       "      <td>685     06973</td>\n",
       "      <td>5.1.1</td>\n",
       "      <td>Shadehouses</td>\n",
       "      <td>1:20,000</td>\n",
       "      <td>2008-02-01 00:00:00</td>\n",
       "      <td>2</td>\n",
       "      <td>2008-08-07 00:00:00</td>\n",
       "      <td>...</td>\n",
       "      <td>0</td>\n",
       "      <td>NaN</td>\n",
       "      <td>0</td>\n",
       "      <td>NaN</td>\n",
       "      <td>0.0</td>\n",
       "      <td>0.0</td>\n",
       "      <td>0.0</td>\n",
       "      <td>0.0</td>\n",
       "      <td>170.072448</td>\n",
       "      <td>360.466350</td>\n",
       "    </tr>\n",
       "    <tr>\n",
       "      <th>1</th>\n",
       "      <td>2</td>\n",
       "      <td>1</td>\n",
       "      <td>3520</td>\n",
       "      <td>685     04743</td>\n",
       "      <td>5.1.1</td>\n",
       "      <td>Shadehouses</td>\n",
       "      <td>1:20,000</td>\n",
       "      <td>2008-02-01 00:00:00</td>\n",
       "      <td>2</td>\n",
       "      <td>2008-08-07 00:00:00</td>\n",
       "      <td>...</td>\n",
       "      <td>0</td>\n",
       "      <td>NaN</td>\n",
       "      <td>0</td>\n",
       "      <td>NaN</td>\n",
       "      <td>0.0</td>\n",
       "      <td>0.0</td>\n",
       "      <td>0.0</td>\n",
       "      <td>0.0</td>\n",
       "      <td>937.640122</td>\n",
       "      <td>31019.565942</td>\n",
       "    </tr>\n",
       "    <tr>\n",
       "      <th>2</th>\n",
       "      <td>3</td>\n",
       "      <td>2</td>\n",
       "      <td>15772</td>\n",
       "      <td>055     04303</td>\n",
       "      <td>4.5.0</td>\n",
       "      <td>Irrigated seasonal horticulture</td>\n",
       "      <td>1:20,000</td>\n",
       "      <td>2008-02-01 00:00:00</td>\n",
       "      <td>3</td>\n",
       "      <td>2008-08-07 00:00:00</td>\n",
       "      <td>...</td>\n",
       "      <td>0</td>\n",
       "      <td>NaN</td>\n",
       "      <td>0</td>\n",
       "      <td>NaN</td>\n",
       "      <td>0.0</td>\n",
       "      <td>0.0</td>\n",
       "      <td>0.0</td>\n",
       "      <td>0.0</td>\n",
       "      <td>660.397629</td>\n",
       "      <td>7227.306870</td>\n",
       "    </tr>\n",
       "    <tr>\n",
       "      <th>3</th>\n",
       "      <td>4</td>\n",
       "      <td>3</td>\n",
       "      <td>16449</td>\n",
       "      <td>055     02853</td>\n",
       "      <td>4.4.0</td>\n",
       "      <td>Irrigated perennial horticulture</td>\n",
       "      <td>1:10,000</td>\n",
       "      <td>2008-05-15 00:00:00</td>\n",
       "      <td>1</td>\n",
       "      <td>2008-05-17 00:00:00</td>\n",
       "      <td>...</td>\n",
       "      <td>0</td>\n",
       "      <td>NaN</td>\n",
       "      <td>0</td>\n",
       "      <td>NaN</td>\n",
       "      <td>0.0</td>\n",
       "      <td>0.0</td>\n",
       "      <td>0.0</td>\n",
       "      <td>0.0</td>\n",
       "      <td>1020.910522</td>\n",
       "      <td>20604.525862</td>\n",
       "    </tr>\n",
       "    <tr>\n",
       "      <th>4</th>\n",
       "      <td>5</td>\n",
       "      <td>4</td>\n",
       "      <td>16483</td>\n",
       "      <td>055     03938</td>\n",
       "      <td>5.1.0</td>\n",
       "      <td>Intensive horticulture</td>\n",
       "      <td>1:20,000</td>\n",
       "      <td>2008-02-01 00:00:00</td>\n",
       "      <td>2</td>\n",
       "      <td>2008-08-07 00:00:00</td>\n",
       "      <td>...</td>\n",
       "      <td>0</td>\n",
       "      <td>NaN</td>\n",
       "      <td>0</td>\n",
       "      <td>NaN</td>\n",
       "      <td>0.0</td>\n",
       "      <td>0.0</td>\n",
       "      <td>0.0</td>\n",
       "      <td>0.0</td>\n",
       "      <td>1112.959190</td>\n",
       "      <td>74765.810022</td>\n",
       "    </tr>\n",
       "  </tbody>\n",
       "</table>\n",
       "<p>5 rows × 39 columns</p>\n",
       "</div>"
      ],
      "text/plain": [
       "   OBJECTID_12  FID_Lump_Albers_08_365_515  OBJECTID        LAISKEY LU_CODE  \\\n",
       "0            1                           0      3394  685     06973   5.1.1   \n",
       "1            2                           1      3520  685     04743   5.1.1   \n",
       "2            3                           2     15772  055     04303   4.5.0   \n",
       "3            4                           3     16449  055     02853   4.4.0   \n",
       "4            5                           4     16483  055     03938   5.1.0   \n",
       "\n",
       "                            LU_DESC SRC_SCALE             SRC_DATE  RELIABLE  \\\n",
       "0                       Shadehouses  1:20,000  2008-02-01 00:00:00         2   \n",
       "1                       Shadehouses  1:20,000  2008-02-01 00:00:00         2   \n",
       "2   Irrigated seasonal horticulture  1:20,000  2008-02-01 00:00:00         3   \n",
       "3  Irrigated perennial horticulture  1:10,000  2008-05-15 00:00:00         1   \n",
       "4            Intensive horticulture  1:20,000  2008-02-01 00:00:00         2   \n",
       "\n",
       "              LUC_DATE      ...       PRIM_NO  PRIM_DESC SEC_NO SEC_DESC  \\\n",
       "0  2008-08-07 00:00:00      ...             0        NaN      0      NaN   \n",
       "1  2008-08-07 00:00:00      ...             0        NaN      0      NaN   \n",
       "2  2008-08-07 00:00:00      ...             0        NaN      0      NaN   \n",
       "3  2008-05-17 00:00:00      ...             0        NaN      0      NaN   \n",
       "4  2008-08-07 00:00:00      ...             0        NaN      0      NaN   \n",
       "\n",
       "   AREA_HA  SHAPE_Leng_1  AREA_M2_1  AREA_16_M2  Shape_Length    Shape_Area  \n",
       "0      0.0           0.0        0.0         0.0    170.072448    360.466350  \n",
       "1      0.0           0.0        0.0         0.0    937.640122  31019.565942  \n",
       "2      0.0           0.0        0.0         0.0    660.397629   7227.306870  \n",
       "3      0.0           0.0        0.0         0.0   1020.910522  20604.525862  \n",
       "4      0.0           0.0        0.0         0.0   1112.959190  74765.810022  \n",
       "\n",
       "[5 rows x 39 columns]"
      ]
     },
     "execution_count": 3,
     "metadata": {},
     "output_type": "execute_result"
    }
   ],
   "source": [
    "df.head()"
   ]
  },
  {
   "cell_type": "code",
   "execution_count": 4,
   "metadata": {},
   "outputs": [
    {
     "name": "stdout",
     "output_type": "stream",
     "text": [
      "<class 'pandas.core.frame.DataFrame'>\n",
      "RangeIndex: 6166 entries, 0 to 6165\n",
      "Data columns (total 39 columns):\n",
      "OBJECTID_12                   6166 non-null int64\n",
      "FID_Lump_Albers_08_365_515    6166 non-null int64\n",
      "OBJECTID                      6166 non-null int64\n",
      "LAISKEY                       4069 non-null object\n",
      "LU_CODE                       4069 non-null object\n",
      "LU_DESC                       4069 non-null object\n",
      "SRC_SCALE                     4069 non-null object\n",
      "SRC_DATE                      6166 non-null object\n",
      "RELIABLE                      6166 non-null int64\n",
      "LUC_DATE                      6166 non-null object\n",
      "LU_NO                         6166 non-null int64\n",
      "CLASS_NO                      6166 non-null int64\n",
      "CLASS_DESC                    4069 non-null object\n",
      "SUB_CLASS                     4069 non-null object\n",
      "Shape_Leng                    6166 non-null float64\n",
      "AREA_M2                       6166 non-null float64\n",
      "AREA_08_M2                    6166 non-null float64\n",
      "FID_Lump_Albers_16_365_515    6166 non-null int64\n",
      "OBJECTID_1                    6166 non-null int64\n",
      "LU_CODEN                      6166 non-null int64\n",
      "LU_CODE_1                     4577 non-null object\n",
      "LU_DESCRIP                    4577 non-null object\n",
      "COMMOD_DES                    4577 non-null object\n",
      "COMMENTS                      4577 non-null object\n",
      "SRCE_SCALE                    4577 non-null object\n",
      "SRCE_DATE                     6166 non-null object\n",
      "SRCE_DATA                     4577 non-null object\n",
      "CONFIDENCE                    6166 non-null int64\n",
      "LUC_DATE_1                    6166 non-null object\n",
      "PRIM_NO                       6166 non-null int64\n",
      "PRIM_DESC                     4577 non-null object\n",
      "SEC_NO                        6166 non-null int64\n",
      "SEC_DESC                      4577 non-null object\n",
      "AREA_HA                       6166 non-null float64\n",
      "SHAPE_Leng_1                  6166 non-null float64\n",
      "AREA_M2_1                     6166 non-null float64\n",
      "AREA_16_M2                    6166 non-null float64\n",
      "Shape_Length                  6166 non-null float64\n",
      "Shape_Area                    6166 non-null float64\n",
      "dtypes: float64(9), int64(12), object(18)\n",
      "memory usage: 1.8+ MB\n"
     ]
    }
   ],
   "source": [
    "df.info()"
   ]
  },
  {
   "cell_type": "markdown",
   "metadata": {},
   "source": [
    "###### Convert LU units into strings splice them and then convert them to integers for later extraction."
   ]
  },
  {
   "cell_type": "code",
   "execution_count": 5,
   "metadata": {
    "collapsed": true
   },
   "outputs": [],
   "source": [
    "#change 08 and 16 to strings\n",
    "df['CODE_08'] = df['LU_NO'].astype(str)\n",
    "df['CODE_16'] = df['LU_CODEN'].astype(str)"
   ]
  },
  {
   "cell_type": "code",
   "execution_count": 6,
   "metadata": {
    "collapsed": true
   },
   "outputs": [],
   "source": [
    "# make the new columns for LU08 using string indexing\n",
    "df['prim_08'] = df['CODE_08'].str[0:1]\n",
    "df['secon_08'] = df['CODE_08'].str[:2]\n",
    "df['third_08'] = df['CODE_08'].str[0:3]\n",
    "# make the new columns for LU16 using string indexing\n",
    "df['prim_16'] = df['CODE_16'].str[0:1]\n",
    "df['secon_16'] = df['CODE_16'].str[:2]\n",
    "df['third_16'] = df['CODE_16'].str[0:3]"
   ]
  },
  {
   "cell_type": "code",
   "execution_count": 7,
   "metadata": {
    "collapsed": true
   },
   "outputs": [],
   "source": [
    "#change 08 and 16 to intigers\n",
    "df['seconint_16'] = df['secon_16'].astype(int)\n",
    "df['seconint_08'] = df['secon_08'].astype(int)"
   ]
  },
  {
   "cell_type": "code",
   "execution_count": 8,
   "metadata": {},
   "outputs": [
    {
     "name": "stdout",
     "output_type": "stream",
     "text": [
      "<class 'pandas.core.frame.DataFrame'>\n",
      "RangeIndex: 6166 entries, 0 to 6165\n",
      "Data columns (total 49 columns):\n",
      "OBJECTID_12                   6166 non-null int64\n",
      "FID_Lump_Albers_08_365_515    6166 non-null int64\n",
      "OBJECTID                      6166 non-null int64\n",
      "LAISKEY                       4069 non-null object\n",
      "LU_CODE                       4069 non-null object\n",
      "LU_DESC                       4069 non-null object\n",
      "SRC_SCALE                     4069 non-null object\n",
      "SRC_DATE                      6166 non-null object\n",
      "RELIABLE                      6166 non-null int64\n",
      "LUC_DATE                      6166 non-null object\n",
      "LU_NO                         6166 non-null int64\n",
      "CLASS_NO                      6166 non-null int64\n",
      "CLASS_DESC                    4069 non-null object\n",
      "SUB_CLASS                     4069 non-null object\n",
      "Shape_Leng                    6166 non-null float64\n",
      "AREA_M2                       6166 non-null float64\n",
      "AREA_08_M2                    6166 non-null float64\n",
      "FID_Lump_Albers_16_365_515    6166 non-null int64\n",
      "OBJECTID_1                    6166 non-null int64\n",
      "LU_CODEN                      6166 non-null int64\n",
      "LU_CODE_1                     4577 non-null object\n",
      "LU_DESCRIP                    4577 non-null object\n",
      "COMMOD_DES                    4577 non-null object\n",
      "COMMENTS                      4577 non-null object\n",
      "SRCE_SCALE                    4577 non-null object\n",
      "SRCE_DATE                     6166 non-null object\n",
      "SRCE_DATA                     4577 non-null object\n",
      "CONFIDENCE                    6166 non-null int64\n",
      "LUC_DATE_1                    6166 non-null object\n",
      "PRIM_NO                       6166 non-null int64\n",
      "PRIM_DESC                     4577 non-null object\n",
      "SEC_NO                        6166 non-null int64\n",
      "SEC_DESC                      4577 non-null object\n",
      "AREA_HA                       6166 non-null float64\n",
      "SHAPE_Leng_1                  6166 non-null float64\n",
      "AREA_M2_1                     6166 non-null float64\n",
      "AREA_16_M2                    6166 non-null float64\n",
      "Shape_Length                  6166 non-null float64\n",
      "Shape_Area                    6166 non-null float64\n",
      "CODE_08                       6166 non-null object\n",
      "CODE_16                       6166 non-null object\n",
      "prim_08                       6166 non-null object\n",
      "secon_08                      6166 non-null object\n",
      "third_08                      6166 non-null object\n",
      "prim_16                       6166 non-null object\n",
      "secon_16                      6166 non-null object\n",
      "third_16                      6166 non-null object\n",
      "seconint_16                   6166 non-null int32\n",
      "seconint_08                   6166 non-null int32\n",
      "dtypes: float64(9), int32(2), int64(12), object(26)\n",
      "memory usage: 2.3+ MB\n"
     ]
    }
   ],
   "source": [
    "df1 = df.info()"
   ]
  },
  {
   "cell_type": "code",
   "execution_count": 9,
   "metadata": {},
   "outputs": [
    {
     "name": "stdout",
     "output_type": "stream",
     "text": [
      "<class 'pandas.core.frame.DataFrame'>\n",
      "RangeIndex: 6166 entries, 0 to 6165\n",
      "Data columns (total 49 columns):\n",
      "OBJECTID_12                   6166 non-null int64\n",
      "FID_Lump_Albers_08_365_515    6166 non-null int64\n",
      "OBJECTID                      6166 non-null int64\n",
      "LAISKEY                       4069 non-null object\n",
      "LU_CODE                       4069 non-null object\n",
      "LU_DESC                       4069 non-null object\n",
      "SRC_SCALE                     4069 non-null object\n",
      "SRC_DATE                      6166 non-null object\n",
      "RELIABLE                      6166 non-null int64\n",
      "LUC_DATE                      6166 non-null object\n",
      "LU_NO                         6166 non-null int64\n",
      "CLASS_NO                      6166 non-null int64\n",
      "CLASS_DESC                    4069 non-null object\n",
      "SUB_CLASS                     4069 non-null object\n",
      "Shape_Leng                    6166 non-null float64\n",
      "AREA_M2                       6166 non-null float64\n",
      "AREA_08_M2                    6166 non-null float64\n",
      "FID_Lump_Albers_16_365_515    6166 non-null int64\n",
      "OBJECTID_1                    6166 non-null int64\n",
      "LU_CODEN                      6166 non-null int64\n",
      "LU_CODE_1                     4577 non-null object\n",
      "LU_DESCRIP                    4577 non-null object\n",
      "COMMOD_DES                    4577 non-null object\n",
      "COMMENTS                      4577 non-null object\n",
      "SRCE_SCALE                    4577 non-null object\n",
      "SRCE_DATE                     6166 non-null object\n",
      "SRCE_DATA                     4577 non-null object\n",
      "CONFIDENCE                    6166 non-null int64\n",
      "LUC_DATE_1                    6166 non-null object\n",
      "PRIM_NO                       6166 non-null int64\n",
      "PRIM_DESC                     4577 non-null object\n",
      "SEC_NO                        6166 non-null int64\n",
      "SEC_DESC                      4577 non-null object\n",
      "AREA_HA                       6166 non-null float64\n",
      "SHAPE_Leng_1                  6166 non-null float64\n",
      "AREA_M2_1                     6166 non-null float64\n",
      "AREA_16_M2                    6166 non-null float64\n",
      "Shape_Length                  6166 non-null float64\n",
      "Shape_Area                    6166 non-null float64\n",
      "CODE_08                       6166 non-null object\n",
      "CODE_16                       6166 non-null object\n",
      "prim_08                       6166 non-null object\n",
      "secon_08                      6166 non-null object\n",
      "third_08                      6166 non-null object\n",
      "prim_16                       6166 non-null object\n",
      "secon_16                      6166 non-null object\n",
      "third_16                      6166 non-null object\n",
      "seconint_16                   6166 non-null int32\n",
      "seconint_08                   6166 non-null int32\n",
      "dtypes: float64(9), int32(2), int64(12), object(26)\n",
      "memory usage: 2.3+ MB\n"
     ]
    }
   ],
   "source": [
    "df1 = df.info()"
   ]
  },
  {
   "cell_type": "code",
   "execution_count": 10,
   "metadata": {},
   "outputs": [
    {
     "data": {
      "text/html": [
       "<div>\n",
       "<style>\n",
       "    .dataframe thead tr:only-child th {\n",
       "        text-align: right;\n",
       "    }\n",
       "\n",
       "    .dataframe thead th {\n",
       "        text-align: left;\n",
       "    }\n",
       "\n",
       "    .dataframe tbody tr th {\n",
       "        vertical-align: top;\n",
       "    }\n",
       "</style>\n",
       "<table border=\"1\" class=\"dataframe\">\n",
       "  <thead>\n",
       "    <tr style=\"text-align: right;\">\n",
       "      <th></th>\n",
       "      <th>OBJECTID_12</th>\n",
       "      <th>FID_Lump_Albers_08_365_515</th>\n",
       "      <th>OBJECTID</th>\n",
       "      <th>LAISKEY</th>\n",
       "      <th>LU_CODE</th>\n",
       "      <th>LU_DESC</th>\n",
       "      <th>SRC_SCALE</th>\n",
       "      <th>SRC_DATE</th>\n",
       "      <th>RELIABLE</th>\n",
       "      <th>LUC_DATE</th>\n",
       "      <th>...</th>\n",
       "      <th>CODE_08</th>\n",
       "      <th>CODE_16</th>\n",
       "      <th>prim_08</th>\n",
       "      <th>secon_08</th>\n",
       "      <th>third_08</th>\n",
       "      <th>prim_16</th>\n",
       "      <th>secon_16</th>\n",
       "      <th>third_16</th>\n",
       "      <th>seconint_16</th>\n",
       "      <th>seconint_08</th>\n",
       "    </tr>\n",
       "  </thead>\n",
       "  <tbody>\n",
       "    <tr>\n",
       "      <th>0</th>\n",
       "      <td>1</td>\n",
       "      <td>0</td>\n",
       "      <td>3394</td>\n",
       "      <td>685     06973</td>\n",
       "      <td>5.1.1</td>\n",
       "      <td>Shadehouses</td>\n",
       "      <td>1:20,000</td>\n",
       "      <td>2008-02-01 00:00:00</td>\n",
       "      <td>2</td>\n",
       "      <td>2008-08-07 00:00:00</td>\n",
       "      <td>...</td>\n",
       "      <td>511</td>\n",
       "      <td>0</td>\n",
       "      <td>5</td>\n",
       "      <td>51</td>\n",
       "      <td>511</td>\n",
       "      <td>0</td>\n",
       "      <td>0</td>\n",
       "      <td>0</td>\n",
       "      <td>0</td>\n",
       "      <td>51</td>\n",
       "    </tr>\n",
       "    <tr>\n",
       "      <th>1</th>\n",
       "      <td>2</td>\n",
       "      <td>1</td>\n",
       "      <td>3520</td>\n",
       "      <td>685     04743</td>\n",
       "      <td>5.1.1</td>\n",
       "      <td>Shadehouses</td>\n",
       "      <td>1:20,000</td>\n",
       "      <td>2008-02-01 00:00:00</td>\n",
       "      <td>2</td>\n",
       "      <td>2008-08-07 00:00:00</td>\n",
       "      <td>...</td>\n",
       "      <td>511</td>\n",
       "      <td>0</td>\n",
       "      <td>5</td>\n",
       "      <td>51</td>\n",
       "      <td>511</td>\n",
       "      <td>0</td>\n",
       "      <td>0</td>\n",
       "      <td>0</td>\n",
       "      <td>0</td>\n",
       "      <td>51</td>\n",
       "    </tr>\n",
       "    <tr>\n",
       "      <th>2</th>\n",
       "      <td>3</td>\n",
       "      <td>2</td>\n",
       "      <td>15772</td>\n",
       "      <td>055     04303</td>\n",
       "      <td>4.5.0</td>\n",
       "      <td>Irrigated seasonal horticulture</td>\n",
       "      <td>1:20,000</td>\n",
       "      <td>2008-02-01 00:00:00</td>\n",
       "      <td>3</td>\n",
       "      <td>2008-08-07 00:00:00</td>\n",
       "      <td>...</td>\n",
       "      <td>450</td>\n",
       "      <td>0</td>\n",
       "      <td>4</td>\n",
       "      <td>45</td>\n",
       "      <td>450</td>\n",
       "      <td>0</td>\n",
       "      <td>0</td>\n",
       "      <td>0</td>\n",
       "      <td>0</td>\n",
       "      <td>45</td>\n",
       "    </tr>\n",
       "    <tr>\n",
       "      <th>3</th>\n",
       "      <td>4</td>\n",
       "      <td>3</td>\n",
       "      <td>16449</td>\n",
       "      <td>055     02853</td>\n",
       "      <td>4.4.0</td>\n",
       "      <td>Irrigated perennial horticulture</td>\n",
       "      <td>1:10,000</td>\n",
       "      <td>2008-05-15 00:00:00</td>\n",
       "      <td>1</td>\n",
       "      <td>2008-05-17 00:00:00</td>\n",
       "      <td>...</td>\n",
       "      <td>440</td>\n",
       "      <td>0</td>\n",
       "      <td>4</td>\n",
       "      <td>44</td>\n",
       "      <td>440</td>\n",
       "      <td>0</td>\n",
       "      <td>0</td>\n",
       "      <td>0</td>\n",
       "      <td>0</td>\n",
       "      <td>44</td>\n",
       "    </tr>\n",
       "    <tr>\n",
       "      <th>4</th>\n",
       "      <td>5</td>\n",
       "      <td>4</td>\n",
       "      <td>16483</td>\n",
       "      <td>055     03938</td>\n",
       "      <td>5.1.0</td>\n",
       "      <td>Intensive horticulture</td>\n",
       "      <td>1:20,000</td>\n",
       "      <td>2008-02-01 00:00:00</td>\n",
       "      <td>2</td>\n",
       "      <td>2008-08-07 00:00:00</td>\n",
       "      <td>...</td>\n",
       "      <td>510</td>\n",
       "      <td>0</td>\n",
       "      <td>5</td>\n",
       "      <td>51</td>\n",
       "      <td>510</td>\n",
       "      <td>0</td>\n",
       "      <td>0</td>\n",
       "      <td>0</td>\n",
       "      <td>0</td>\n",
       "      <td>51</td>\n",
       "    </tr>\n",
       "  </tbody>\n",
       "</table>\n",
       "<p>5 rows × 49 columns</p>\n",
       "</div>"
      ],
      "text/plain": [
       "   OBJECTID_12  FID_Lump_Albers_08_365_515  OBJECTID        LAISKEY LU_CODE  \\\n",
       "0            1                           0      3394  685     06973   5.1.1   \n",
       "1            2                           1      3520  685     04743   5.1.1   \n",
       "2            3                           2     15772  055     04303   4.5.0   \n",
       "3            4                           3     16449  055     02853   4.4.0   \n",
       "4            5                           4     16483  055     03938   5.1.0   \n",
       "\n",
       "                            LU_DESC SRC_SCALE             SRC_DATE  RELIABLE  \\\n",
       "0                       Shadehouses  1:20,000  2008-02-01 00:00:00         2   \n",
       "1                       Shadehouses  1:20,000  2008-02-01 00:00:00         2   \n",
       "2   Irrigated seasonal horticulture  1:20,000  2008-02-01 00:00:00         3   \n",
       "3  Irrigated perennial horticulture  1:10,000  2008-05-15 00:00:00         1   \n",
       "4            Intensive horticulture  1:20,000  2008-02-01 00:00:00         2   \n",
       "\n",
       "              LUC_DATE     ...       CODE_08  CODE_16 prim_08 secon_08  \\\n",
       "0  2008-08-07 00:00:00     ...           511        0       5       51   \n",
       "1  2008-08-07 00:00:00     ...           511        0       5       51   \n",
       "2  2008-08-07 00:00:00     ...           450        0       4       45   \n",
       "3  2008-05-17 00:00:00     ...           440        0       4       44   \n",
       "4  2008-08-07 00:00:00     ...           510        0       5       51   \n",
       "\n",
       "   third_08  prim_16  secon_16  third_16  seconint_16  seconint_08  \n",
       "0       511        0         0         0            0           51  \n",
       "1       511        0         0         0            0           51  \n",
       "2       450        0         0         0            0           45  \n",
       "3       440        0         0         0            0           44  \n",
       "4       510        0         0         0            0           51  \n",
       "\n",
       "[5 rows x 49 columns]"
      ]
     },
     "execution_count": 10,
     "metadata": {},
     "output_type": "execute_result"
    }
   ],
   "source": [
    "df.head()"
   ]
  },
  {
   "cell_type": "markdown",
   "metadata": {},
   "source": [
    "###### Select the columns of interest as df1 and df20"
   ]
  },
  {
   "cell_type": "code",
   "execution_count": 11,
   "metadata": {},
   "outputs": [
    {
     "data": {
      "text/html": [
       "<div>\n",
       "<style>\n",
       "    .dataframe thead tr:only-child th {\n",
       "        text-align: right;\n",
       "    }\n",
       "\n",
       "    .dataframe thead th {\n",
       "        text-align: left;\n",
       "    }\n",
       "\n",
       "    .dataframe tbody tr th {\n",
       "        vertical-align: top;\n",
       "    }\n",
       "</style>\n",
       "<table border=\"1\" class=\"dataframe\">\n",
       "  <thead>\n",
       "    <tr style=\"text-align: right;\">\n",
       "      <th></th>\n",
       "      <th>secon_08</th>\n",
       "      <th>AREA_08_M2</th>\n",
       "    </tr>\n",
       "  </thead>\n",
       "  <tbody>\n",
       "    <tr>\n",
       "      <th>0</th>\n",
       "      <td>51</td>\n",
       "      <td>360.466350</td>\n",
       "    </tr>\n",
       "    <tr>\n",
       "      <th>1</th>\n",
       "      <td>51</td>\n",
       "      <td>31019.565942</td>\n",
       "    </tr>\n",
       "    <tr>\n",
       "      <th>2</th>\n",
       "      <td>45</td>\n",
       "      <td>79145.763725</td>\n",
       "    </tr>\n",
       "    <tr>\n",
       "      <th>3</th>\n",
       "      <td>44</td>\n",
       "      <td>132832.131521</td>\n",
       "    </tr>\n",
       "    <tr>\n",
       "      <th>4</th>\n",
       "      <td>51</td>\n",
       "      <td>74765.810022</td>\n",
       "    </tr>\n",
       "  </tbody>\n",
       "</table>\n",
       "</div>"
      ],
      "text/plain": [
       "  secon_08     AREA_08_M2\n",
       "0       51     360.466350\n",
       "1       51   31019.565942\n",
       "2       45   79145.763725\n",
       "3       44  132832.131521\n",
       "4       51   74765.810022"
      ]
     },
     "execution_count": 11,
     "metadata": {},
     "output_type": "execute_result"
    }
   ],
   "source": [
    "df20 = df[['secon_08', 'AREA_08_M2']]\n",
    "df20.head()"
   ]
  },
  {
   "cell_type": "code",
   "execution_count": 12,
   "metadata": {},
   "outputs": [
    {
     "data": {
      "text/html": [
       "<div>\n",
       "<style>\n",
       "    .dataframe thead tr:only-child th {\n",
       "        text-align: right;\n",
       "    }\n",
       "\n",
       "    .dataframe thead th {\n",
       "        text-align: left;\n",
       "    }\n",
       "\n",
       "    .dataframe tbody tr th {\n",
       "        vertical-align: top;\n",
       "    }\n",
       "</style>\n",
       "<table border=\"1\" class=\"dataframe\">\n",
       "  <thead>\n",
       "    <tr style=\"text-align: right;\">\n",
       "      <th></th>\n",
       "      <th>secon_16</th>\n",
       "      <th>AREA_16_M2</th>\n",
       "    </tr>\n",
       "  </thead>\n",
       "  <tbody>\n",
       "    <tr>\n",
       "      <th>0</th>\n",
       "      <td>0</td>\n",
       "      <td>0.0</td>\n",
       "    </tr>\n",
       "    <tr>\n",
       "      <th>1</th>\n",
       "      <td>0</td>\n",
       "      <td>0.0</td>\n",
       "    </tr>\n",
       "    <tr>\n",
       "      <th>2</th>\n",
       "      <td>0</td>\n",
       "      <td>0.0</td>\n",
       "    </tr>\n",
       "    <tr>\n",
       "      <th>3</th>\n",
       "      <td>0</td>\n",
       "      <td>0.0</td>\n",
       "    </tr>\n",
       "    <tr>\n",
       "      <th>4</th>\n",
       "      <td>0</td>\n",
       "      <td>0.0</td>\n",
       "    </tr>\n",
       "  </tbody>\n",
       "</table>\n",
       "</div>"
      ],
      "text/plain": [
       "  secon_16  AREA_16_M2\n",
       "0        0         0.0\n",
       "1        0         0.0\n",
       "2        0         0.0\n",
       "3        0         0.0\n",
       "4        0         0.0"
      ]
     },
     "execution_count": 12,
     "metadata": {},
     "output_type": "execute_result"
    }
   ],
   "source": [
    "df1 = df[['secon_16', 'AREA_16_M2']]\n",
    "df1.head()"
   ]
  },
  {
   "cell_type": "code",
   "execution_count": 13,
   "metadata": {
    "collapsed": true
   },
   "outputs": [],
   "source": [
    "# multiple functions\n",
    "df_16 = df.groupby('secon_16')['AREA_16_M2'].agg([\n",
    "    np.sum,\n",
    "    np.mean,\n",
    "    np.count_nonzero,\n",
    "])#.unstack()\n",
    "# multiple functions\n",
    "df_08 = df.groupby('secon_08')['AREA_08_M2'].agg([\n",
    "    np.sum,\n",
    "    np.mean,\n",
    "    np.count_nonzero,\n",
    "])#.unstack()"
   ]
  },
  {
   "cell_type": "code",
   "execution_count": 14,
   "metadata": {
    "scrolled": true
   },
   "outputs": [
    {
     "data": {
      "text/html": [
       "<div>\n",
       "<style>\n",
       "    .dataframe thead tr:only-child th {\n",
       "        text-align: right;\n",
       "    }\n",
       "\n",
       "    .dataframe thead th {\n",
       "        text-align: left;\n",
       "    }\n",
       "\n",
       "    .dataframe tbody tr th {\n",
       "        vertical-align: top;\n",
       "    }\n",
       "</style>\n",
       "<table border=\"1\" class=\"dataframe\">\n",
       "  <thead>\n",
       "    <tr style=\"text-align: right;\">\n",
       "      <th></th>\n",
       "      <th>sum</th>\n",
       "      <th>mean</th>\n",
       "      <th>count_nonzero</th>\n",
       "    </tr>\n",
       "    <tr>\n",
       "      <th>secon_16</th>\n",
       "      <th></th>\n",
       "      <th></th>\n",
       "      <th></th>\n",
       "    </tr>\n",
       "  </thead>\n",
       "  <tbody>\n",
       "    <tr>\n",
       "      <th>0</th>\n",
       "      <td>0.000000e+00</td>\n",
       "      <td>0.000000</td>\n",
       "      <td>0.0</td>\n",
       "    </tr>\n",
       "    <tr>\n",
       "      <th>36</th>\n",
       "      <td>5.245401e+05</td>\n",
       "      <td>65567.515551</td>\n",
       "      <td>8.0</td>\n",
       "    </tr>\n",
       "    <tr>\n",
       "      <th>41</th>\n",
       "      <td>6.339301e+07</td>\n",
       "      <td>551243.539883</td>\n",
       "      <td>115.0</td>\n",
       "    </tr>\n",
       "    <tr>\n",
       "      <th>42</th>\n",
       "      <td>8.703489e+06</td>\n",
       "      <td>543968.049411</td>\n",
       "      <td>16.0</td>\n",
       "    </tr>\n",
       "    <tr>\n",
       "      <th>43</th>\n",
       "      <td>1.871820e+07</td>\n",
       "      <td>415960.063409</td>\n",
       "      <td>45.0</td>\n",
       "    </tr>\n",
       "    <tr>\n",
       "      <th>44</th>\n",
       "      <td>1.569975e+08</td>\n",
       "      <td>50062.964554</td>\n",
       "      <td>3136.0</td>\n",
       "    </tr>\n",
       "    <tr>\n",
       "      <th>45</th>\n",
       "      <td>8.050303e+07</td>\n",
       "      <td>90048.128172</td>\n",
       "      <td>894.0</td>\n",
       "    </tr>\n",
       "    <tr>\n",
       "      <th>46</th>\n",
       "      <td>4.441280e+07</td>\n",
       "      <td>173487.517074</td>\n",
       "      <td>256.0</td>\n",
       "    </tr>\n",
       "    <tr>\n",
       "      <th>51</th>\n",
       "      <td>1.573265e+06</td>\n",
       "      <td>14703.407708</td>\n",
       "      <td>107.0</td>\n",
       "    </tr>\n",
       "  </tbody>\n",
       "</table>\n",
       "</div>"
      ],
      "text/plain": [
       "                   sum           mean  count_nonzero\n",
       "secon_16                                            \n",
       "0         0.000000e+00       0.000000            0.0\n",
       "36        5.245401e+05   65567.515551            8.0\n",
       "41        6.339301e+07  551243.539883          115.0\n",
       "42        8.703489e+06  543968.049411           16.0\n",
       "43        1.871820e+07  415960.063409           45.0\n",
       "44        1.569975e+08   50062.964554         3136.0\n",
       "45        8.050303e+07   90048.128172          894.0\n",
       "46        4.441280e+07  173487.517074          256.0\n",
       "51        1.573265e+06   14703.407708          107.0"
      ]
     },
     "execution_count": 14,
     "metadata": {},
     "output_type": "execute_result"
    }
   ],
   "source": [
    "df_16\n"
   ]
  },
  {
   "cell_type": "code",
   "execution_count": 15,
   "metadata": {
    "scrolled": true
   },
   "outputs": [
    {
     "data": {
      "text/html": [
       "<div>\n",
       "<style>\n",
       "    .dataframe thead tr:only-child th {\n",
       "        text-align: right;\n",
       "    }\n",
       "\n",
       "    .dataframe thead th {\n",
       "        text-align: left;\n",
       "    }\n",
       "\n",
       "    .dataframe tbody tr th {\n",
       "        vertical-align: top;\n",
       "    }\n",
       "</style>\n",
       "<table border=\"1\" class=\"dataframe\">\n",
       "  <thead>\n",
       "    <tr style=\"text-align: right;\">\n",
       "      <th></th>\n",
       "      <th>sum</th>\n",
       "      <th>mean</th>\n",
       "      <th>count_nonzero</th>\n",
       "    </tr>\n",
       "    <tr>\n",
       "      <th>secon_08</th>\n",
       "      <th></th>\n",
       "      <th></th>\n",
       "      <th></th>\n",
       "    </tr>\n",
       "  </thead>\n",
       "  <tbody>\n",
       "    <tr>\n",
       "      <th>0</th>\n",
       "      <td>0.000000e+00</td>\n",
       "      <td>0.000000e+00</td>\n",
       "      <td>0.0</td>\n",
       "    </tr>\n",
       "    <tr>\n",
       "      <th>42</th>\n",
       "      <td>1.353979e+07</td>\n",
       "      <td>5.415915e+05</td>\n",
       "      <td>25.0</td>\n",
       "    </tr>\n",
       "    <tr>\n",
       "      <th>43</th>\n",
       "      <td>1.236351e+08</td>\n",
       "      <td>1.113829e+06</td>\n",
       "      <td>111.0</td>\n",
       "    </tr>\n",
       "    <tr>\n",
       "      <th>44</th>\n",
       "      <td>3.955395e+08</td>\n",
       "      <td>1.212567e+05</td>\n",
       "      <td>3262.0</td>\n",
       "    </tr>\n",
       "    <tr>\n",
       "      <th>45</th>\n",
       "      <td>1.522246e+08</td>\n",
       "      <td>4.425133e+05</td>\n",
       "      <td>344.0</td>\n",
       "    </tr>\n",
       "    <tr>\n",
       "      <th>46</th>\n",
       "      <td>6.452436e+07</td>\n",
       "      <td>2.264013e+05</td>\n",
       "      <td>285.0</td>\n",
       "    </tr>\n",
       "    <tr>\n",
       "      <th>51</th>\n",
       "      <td>6.281297e+05</td>\n",
       "      <td>1.495547e+04</td>\n",
       "      <td>42.0</td>\n",
       "    </tr>\n",
       "  </tbody>\n",
       "</table>\n",
       "</div>"
      ],
      "text/plain": [
       "                   sum          mean  count_nonzero\n",
       "secon_08                                           \n",
       "0         0.000000e+00  0.000000e+00            0.0\n",
       "42        1.353979e+07  5.415915e+05           25.0\n",
       "43        1.236351e+08  1.113829e+06          111.0\n",
       "44        3.955395e+08  1.212567e+05         3262.0\n",
       "45        1.522246e+08  4.425133e+05          344.0\n",
       "46        6.452436e+07  2.264013e+05          285.0\n",
       "51        6.281297e+05  1.495547e+04           42.0"
      ]
     },
     "execution_count": 15,
     "metadata": {},
     "output_type": "execute_result"
    }
   ],
   "source": [
    "df_08"
   ]
  },
  {
   "cell_type": "code",
   "execution_count": 17,
   "metadata": {
    "collapsed": true
   },
   "outputs": [],
   "source": [
    "import numpy as np\n",
    "#First irrigated value\n",
    "df1 = df.groupby(['secon_16'], as_index=False).agg({'AREA_16_M2':np.sum})\n",
    "#Second irrigated valuu\n",
    "df20 = df.groupby(['secon_08'], as_index=False).agg({'AREA_08_M2':np.sum})"
   ]
  },
  {
   "cell_type": "code",
   "execution_count": 18,
   "metadata": {
    "collapsed": true
   },
   "outputs": [],
   "source": [
    "#This will group by without indexing the colum selected\n",
    "#df.groupby(['col2','col3'], as_index=False).sum()"
   ]
  },
  {
   "cell_type": "code",
   "execution_count": 19,
   "metadata": {
    "collapsed": true
   },
   "outputs": [],
   "source": [
    "df_groupby16 = pd.DataFrame(df1)#, index=['secon_08'])#creates a new dataframe with the results"
   ]
  },
  {
   "cell_type": "code",
   "execution_count": 20,
   "metadata": {
    "collapsed": true
   },
   "outputs": [],
   "source": [
    "#df_groupby16 = df.rename(columns={'Leader': 'Commander'}, inplace=True)"
   ]
  },
  {
   "cell_type": "code",
   "execution_count": null,
   "metadata": {
    "collapsed": true
   },
   "outputs": [],
   "source": []
  },
  {
   "cell_type": "code",
   "execution_count": 21,
   "metadata": {
    "collapsed": true,
    "scrolled": true
   },
   "outputs": [],
   "source": [
    "df_groupby08 = pd.DataFrame(df20)\n"
   ]
  },
  {
   "cell_type": "code",
   "execution_count": 22,
   "metadata": {},
   "outputs": [
    {
     "data": {
      "text/html": [
       "<div>\n",
       "<style>\n",
       "    .dataframe thead tr:only-child th {\n",
       "        text-align: right;\n",
       "    }\n",
       "\n",
       "    .dataframe thead th {\n",
       "        text-align: left;\n",
       "    }\n",
       "\n",
       "    .dataframe tbody tr th {\n",
       "        vertical-align: top;\n",
       "    }\n",
       "</style>\n",
       "<table border=\"1\" class=\"dataframe\">\n",
       "  <thead>\n",
       "    <tr style=\"text-align: right;\">\n",
       "      <th></th>\n",
       "      <th>secon_16</th>\n",
       "      <th>AREA_16_M2</th>\n",
       "    </tr>\n",
       "  </thead>\n",
       "  <tbody>\n",
       "    <tr>\n",
       "      <th>0</th>\n",
       "      <td>0</td>\n",
       "      <td>0.000000e+00</td>\n",
       "    </tr>\n",
       "    <tr>\n",
       "      <th>1</th>\n",
       "      <td>36</td>\n",
       "      <td>5.245401e+05</td>\n",
       "    </tr>\n",
       "    <tr>\n",
       "      <th>2</th>\n",
       "      <td>41</td>\n",
       "      <td>6.339301e+07</td>\n",
       "    </tr>\n",
       "    <tr>\n",
       "      <th>3</th>\n",
       "      <td>42</td>\n",
       "      <td>8.703489e+06</td>\n",
       "    </tr>\n",
       "    <tr>\n",
       "      <th>4</th>\n",
       "      <td>43</td>\n",
       "      <td>1.871820e+07</td>\n",
       "    </tr>\n",
       "    <tr>\n",
       "      <th>5</th>\n",
       "      <td>44</td>\n",
       "      <td>1.569975e+08</td>\n",
       "    </tr>\n",
       "    <tr>\n",
       "      <th>6</th>\n",
       "      <td>45</td>\n",
       "      <td>8.050303e+07</td>\n",
       "    </tr>\n",
       "    <tr>\n",
       "      <th>7</th>\n",
       "      <td>46</td>\n",
       "      <td>4.441280e+07</td>\n",
       "    </tr>\n",
       "    <tr>\n",
       "      <th>8</th>\n",
       "      <td>51</td>\n",
       "      <td>1.573265e+06</td>\n",
       "    </tr>\n",
       "  </tbody>\n",
       "</table>\n",
       "</div>"
      ],
      "text/plain": [
       "  secon_16    AREA_16_M2\n",
       "0        0  0.000000e+00\n",
       "1       36  5.245401e+05\n",
       "2       41  6.339301e+07\n",
       "3       42  8.703489e+06\n",
       "4       43  1.871820e+07\n",
       "5       44  1.569975e+08\n",
       "6       45  8.050303e+07\n",
       "7       46  4.441280e+07\n",
       "8       51  1.573265e+06"
      ]
     },
     "execution_count": 22,
     "metadata": {},
     "output_type": "execute_result"
    }
   ],
   "source": [
    "df_groupby16"
   ]
  },
  {
   "cell_type": "code",
   "execution_count": 23,
   "metadata": {},
   "outputs": [
    {
     "data": {
      "text/html": [
       "<div>\n",
       "<style>\n",
       "    .dataframe thead tr:only-child th {\n",
       "        text-align: right;\n",
       "    }\n",
       "\n",
       "    .dataframe thead th {\n",
       "        text-align: left;\n",
       "    }\n",
       "\n",
       "    .dataframe tbody tr th {\n",
       "        vertical-align: top;\n",
       "    }\n",
       "</style>\n",
       "<table border=\"1\" class=\"dataframe\">\n",
       "  <thead>\n",
       "    <tr style=\"text-align: right;\">\n",
       "      <th></th>\n",
       "      <th>secon_08</th>\n",
       "      <th>AREA_08_M2</th>\n",
       "    </tr>\n",
       "  </thead>\n",
       "  <tbody>\n",
       "    <tr>\n",
       "      <th>0</th>\n",
       "      <td>0</td>\n",
       "      <td>0.000000e+00</td>\n",
       "    </tr>\n",
       "    <tr>\n",
       "      <th>1</th>\n",
       "      <td>42</td>\n",
       "      <td>1.353979e+07</td>\n",
       "    </tr>\n",
       "    <tr>\n",
       "      <th>2</th>\n",
       "      <td>43</td>\n",
       "      <td>1.236351e+08</td>\n",
       "    </tr>\n",
       "    <tr>\n",
       "      <th>3</th>\n",
       "      <td>44</td>\n",
       "      <td>3.955395e+08</td>\n",
       "    </tr>\n",
       "    <tr>\n",
       "      <th>4</th>\n",
       "      <td>45</td>\n",
       "      <td>1.522246e+08</td>\n",
       "    </tr>\n",
       "    <tr>\n",
       "      <th>5</th>\n",
       "      <td>46</td>\n",
       "      <td>6.452436e+07</td>\n",
       "    </tr>\n",
       "    <tr>\n",
       "      <th>6</th>\n",
       "      <td>51</td>\n",
       "      <td>6.281297e+05</td>\n",
       "    </tr>\n",
       "  </tbody>\n",
       "</table>\n",
       "</div>"
      ],
      "text/plain": [
       "  secon_08    AREA_08_M2\n",
       "0        0  0.000000e+00\n",
       "1       42  1.353979e+07\n",
       "2       43  1.236351e+08\n",
       "3       44  3.955395e+08\n",
       "4       45  1.522246e+08\n",
       "5       46  6.452436e+07\n",
       "6       51  6.281297e+05"
      ]
     },
     "execution_count": 23,
     "metadata": {},
     "output_type": "execute_result"
    }
   ],
   "source": [
    "df_groupby08"
   ]
  },
  {
   "cell_type": "markdown",
   "metadata": {},
   "source": [
    "###### Try to rename columns"
   ]
  },
  {
   "cell_type": "code",
   "execution_count": null,
   "metadata": {
    "collapsed": true
   },
   "outputs": [],
   "source": []
  },
  {
   "cell_type": "code",
   "execution_count": 24,
   "metadata": {
    "collapsed": true
   },
   "outputs": [],
   "source": [
    "#df20 = df.rename(columns={'secon_08': 'LU Use', 'AREA_08_M2': '2008 Area'})"
   ]
  },
  {
   "cell_type": "code",
   "execution_count": 25,
   "metadata": {
    "collapsed": true
   },
   "outputs": [],
   "source": [
    "#df20=df.columns = ['Land Use', '2008 Area'] will creat a list only"
   ]
  },
  {
   "cell_type": "markdown",
   "metadata": {},
   "source": [
    "###### Set the LU code to index and use .loc to enable code selection"
   ]
  },
  {
   "cell_type": "code",
   "execution_count": 26,
   "metadata": {
    "collapsed": true
   },
   "outputs": [],
   "source": [
    "#df20.set_index('secon_08',inplace=True)"
   ]
  },
  {
   "cell_type": "code",
   "execution_count": 27,
   "metadata": {
    "collapsed": true
   },
   "outputs": [],
   "source": [
    "#df20.loc[['42', '43']]"
   ]
  },
  {
   "cell_type": "code",
   "execution_count": 28,
   "metadata": {
    "collapsed": true
   },
   "outputs": [],
   "source": [
    "\n",
    "#import pandas as pd\n",
    "#pd.merge(df1, df2, how ='left', on = 'secon')#try how = inner"
   ]
  },
  {
   "cell_type": "code",
   "execution_count": 29,
   "metadata": {},
   "outputs": [
    {
     "data": {
      "text/plain": [
       "0     0\n",
       "1    42\n",
       "2    43\n",
       "3    44\n",
       "4    45\n",
       "5    46\n",
       "6    51\n",
       "Name: secon_08, dtype: object"
      ]
     },
     "execution_count": 29,
     "metadata": {},
     "output_type": "execute_result"
    }
   ],
   "source": [
    "df_groupby08['secon_08']"
   ]
  },
  {
   "cell_type": "code",
   "execution_count": 30,
   "metadata": {},
   "outputs": [
    {
     "data": {
      "text/plain": [
       "Text(0.5,1,'interesting graph\\nCheck out my line graph')"
      ]
     },
     "execution_count": 30,
     "metadata": {},
     "output_type": "execute_result"
    },
    {
     "data": {
      "image/png": "[encoded data removed]",
      "text/plain": [
       "<matplotlib.figure.Figure at 0xa549a20>"
      ]
     },
     "metadata": {},
     "output_type": "display_data"
    }
   ],
   "source": [
    "#Plot a line graph\n",
    "x1 = df_groupby08['secon_08']\n",
    "x2 = df_groupby16['secon_16']\n",
    "y1 = df_groupby08 ['AREA_08_M2']\n",
    "y2 = df_groupby16 ['AREA_16_M2']\n",
    "plt.plot(x1, y1, label = 'First line')\n",
    "plt.plot(x2, y2, label = 'Second line')\n",
    "plt.xlabel('Land use')\n",
    "plt.ylabel('Area')\n",
    "plt.legend()\n",
    "plt.title(\"interesting graph\\nCheck out my line graph\")"
   ]
  },
  {
   "cell_type": "code",
   "execution_count": 31,
   "metadata": {},
   "outputs": [
    {
     "data": {
      "text/plain": [
       "Text(0.5,1,'interesting graph\\nCheck out my line graph')"
      ]
     },
     "execution_count": 31,
     "metadata": {},
     "output_type": "execute_result"
    },
    {
     "data": {
      "image/png": "[encoded data removed]",
      "text/plain": [
       "<matplotlib.figure.Figure at 0xa57ae80>"
      ]
     },
     "metadata": {},
     "output_type": "display_data"
    }
   ],
   "source": [
    "#Plot a bar graph\n",
    "plt.title(\"interesting graph\\nCheck it out\")\n",
    "x1 = df_groupby08['secon_08']\n",
    "x2 = df_groupby16['secon_16']\n",
    "y1 = df_groupby08 ['AREA_08_M2']\n",
    "y2 = df_groupby16 ['AREA_16_M2']\n",
    "plt.bar(x1, y1, label = 'First line')\n",
    "plt.bar(x2, y2, label = 'Second line')\n",
    "plt.xlabel('Land use')\n",
    "plt.ylabel('Area')\n",
    "plt.legend()\n",
    "plt.title(\"interesting graph\\nCheck out my line graph\")\n"
   ]
  },
  {
   "cell_type": "code",
   "execution_count": 32,
   "metadata": {},
   "outputs": [
    {
     "ename": "TypeError",
     "evalue": "can't multiply sequence by non-int of type 'float'",
     "output_type": "error",
     "traceback": [
      "\u001b[1;31m---------------------------------------------------------------------------\u001b[0m",
      "\u001b[1;31mTypeError\u001b[0m                                 Traceback (most recent call last)",
      "\u001b[1;32m<ipython-input-32-b6f2bbd27f47>\u001b[0m in \u001b[0;36m<module>\u001b[1;34m()\u001b[0m\n\u001b[0;32m      3\u001b[0m \u001b[0my2\u001b[0m \u001b[1;33m=\u001b[0m \u001b[0mdf\u001b[0m \u001b[1;33m[\u001b[0m\u001b[1;34m'AREA_16_M2'\u001b[0m\u001b[1;33m]\u001b[0m\u001b[1;33m\u001b[0m\u001b[0m\n\u001b[0;32m      4\u001b[0m \u001b[0mplt\u001b[0m\u001b[1;33m.\u001b[0m\u001b[0mbar\u001b[0m\u001b[1;33m(\u001b[0m\u001b[0mx2\u001b[0m\u001b[1;33m,\u001b[0m \u001b[0my2\u001b[0m\u001b[1;33m)\u001b[0m\u001b[1;33m\u001b[0m\u001b[0m\n\u001b[1;32m----> 5\u001b[1;33m \u001b[0mplt\u001b[0m\u001b[1;33m.\u001b[0m\u001b[0mxlim\u001b[0m\u001b[1;33m(\u001b[0m\u001b[0mx2\u001b[0m\u001b[1;33m.\u001b[0m\u001b[0mmin\u001b[0m\u001b[1;33m(\u001b[0m\u001b[1;33m)\u001b[0m\u001b[1;33m*\u001b[0m\u001b[1;36m1.1\u001b[0m\u001b[1;33m,\u001b[0m \u001b[0mX\u001b[0m\u001b[1;33m.\u001b[0m\u001b[0mmax\u001b[0m\u001b[1;33m(\u001b[0m\u001b[1;33m)\u001b[0m\u001b[1;33m*\u001b[0m\u001b[1;36m1.1\u001b[0m\u001b[1;33m)\u001b[0m\u001b[1;33m\u001b[0m\u001b[0m\n\u001b[0m\u001b[0;32m      6\u001b[0m \u001b[0mplt\u001b[0m\u001b[1;33m.\u001b[0m\u001b[0mylim\u001b[0m\u001b[1;33m(\u001b[0m\u001b[0my2\u001b[0m\u001b[1;33m.\u001b[0m\u001b[0mmin\u001b[0m\u001b[1;33m(\u001b[0m\u001b[1;33m)\u001b[0m\u001b[1;33m*\u001b[0m\u001b[1;36m1.1\u001b[0m\u001b[1;33m,\u001b[0m \u001b[0mC\u001b[0m\u001b[1;33m.\u001b[0m\u001b[0mmax\u001b[0m\u001b[1;33m(\u001b[0m\u001b[1;33m)\u001b[0m\u001b[1;33m*\u001b[0m\u001b[1;36m1.1\u001b[0m\u001b[1;33m)\u001b[0m\u001b[1;33m\u001b[0m\u001b[0m\n\u001b[0;32m      7\u001b[0m \u001b[0mplt\u001b[0m\u001b[1;33m.\u001b[0m\u001b[0mxlabel\u001b[0m\u001b[1;33m(\u001b[0m\u001b[1;34m'Land use'\u001b[0m\u001b[1;33m)\u001b[0m\u001b[1;33m\u001b[0m\u001b[0m\n",
      "\u001b[1;31mTypeError\u001b[0m: can't multiply sequence by non-int of type 'float'"
     ]
    },
    {
     "data": {
      "image/png": "[encoded data removed]",
      "text/plain": [
       "<matplotlib.figure.Figure at 0xa5cacc0>"
      ]
     },
     "metadata": {},
     "output_type": "display_data"
    }
   ],
   "source": [
    "#Plot the first value\n",
    "x2 = df['secon_16']\n",
    "y2 = df ['AREA_16_M2']\n",
    "plt.bar(x2, y2)\n",
    "plt.xlim(x2.min()*1.1, X.max()*1.1)\n",
    "plt.ylim(y2.min()*1.1, C.max()*1.1)\n",
    "plt.xlabel('Land use')\n",
    "plt.ylabel('Area')"
   ]
  },
  {
   "cell_type": "code",
   "execution_count": null,
   "metadata": {
    "collapsed": true
   },
   "outputs": [],
   "source": [
    "import matplotlib.pyplot as plt\n",
    "ax = df[['AREA_08_M2','AREA_16_M2']].plot(kind='bar', title =\"V comp\")\n",
    "\n",
    "plt.xlim(X.min()*1.1, X.max()*1.1)\n",
    "plt.ylim(C.min()*1.1, C.max()*1.1)\n",
    "\n",
    "ax.set_xlabel(\"Area\", fontsize=12)\n",
    "ax.set_ylabel(\"Land Use\", fontsize=12)\n",
    "plt.show()"
   ]
  },
  {
   "cell_type": "code",
   "execution_count": null,
   "metadata": {
    "collapsed": true
   },
   "outputs": [],
   "source": [
    "plt.plot([1,2,3,], [5,6,7,])"
   ]
  },
  {
   "cell_type": "code",
   "execution_count": null,
   "metadata": {
    "collapsed": true
   },
   "outputs": [],
   "source": []
  }
 ],
 "metadata": {
  "kernelspec": {
   "display_name": "Python 3",
   "language": "python",
   "name": "python3"
  },
  "language_info": {
   "codemirror_mode": {
    "name": "ipython",
    "version": 3
   },
   "file_extension": ".py",
   "mimetype": "text/x-python",
   "name": "python",
   "nbconvert_exporter": "python",
   "pygments_lexer": "ipython3",
   "version": "3.6.3"
  }
 },
 "nbformat": 4,
 "nbformat_minor": 2
}
